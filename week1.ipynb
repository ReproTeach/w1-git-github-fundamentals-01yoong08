{
 "cells": [
  {
   "cell_type": "markdown",
   "id": "36a1d654-4d62-4bca-a10a-f92f7feb5c1a",
   "metadata": {},
   "source": [
    "# COMM 160 DS\n",
    "## Week 1\n",
    "What we learned this week\n",
    "1. Github (*What is it? How to use it?*)\n",
    "###### pull requests / markdown / .gitignore\n",
    "2. Datacamp\n",
    "3. "
   ]
  },
  {
   "cell_type": "code",
   "execution_count": null,
   "id": "27186de7-cfca-4be2-9e0b-746c70e14c85",
   "metadata": {},
   "outputs": [],
   "source": []
  }
 ],
 "metadata": {
  "kernelspec": {
   "display_name": "Python 3 (ipykernel)",
   "language": "python",
   "name": "python3"
  },
  "language_info": {
   "codemirror_mode": {
    "name": "ipython",
    "version": 3
   },
   "file_extension": ".py",
   "mimetype": "text/x-python",
   "name": "python",
   "nbconvert_exporter": "python",
   "pygments_lexer": "ipython3",
   "version": "3.10.9"
  }
 },
 "nbformat": 4,
 "nbformat_minor": 5
}
